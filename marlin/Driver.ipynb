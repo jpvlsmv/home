{
 "cells": [
  {
   "cell_type": "code",
   "execution_count": 1,
   "metadata": {},
   "outputs": [
    {
     "data": {
      "text/plain": [
       "4"
      ]
     },
     "execution_count": 1,
     "metadata": {},
     "output_type": "execute_result"
    }
   ],
   "source": [
    "2+2"
   ]
  },
  {
   "cell_type": "code",
   "execution_count": 3,
   "metadata": {},
   "outputs": [],
   "source": [
    "import asm_cfg"
   ]
  },
  {
   "cell_type": "code",
   "execution_count": 4,
   "metadata": {
    "collapsed": true
   },
   "outputs": [],
   "source": [
    "asm_cfg.main(\"rebuild_from_archive_Marlin_I3.cpp.hex.dis\")"
   ]
  },
  {
   "cell_type": "code",
   "execution_count": 1,
   "metadata": {},
   "outputs": [],
   "source": [
    "import io\n",
    "with io.open(\"rebuild_from_archive_Marlin_I3.cpp.hex.dis\") as f:\n",
    "    asm_lines = f.read().splitlines()"
   ]
  },
  {
   "cell_type": "code",
   "execution_count": 2,
   "metadata": {},
   "outputs": [
    {
     "name": "stdout",
     "output_type": "stream",
     "text": [
      "['', 'rebuild_from_archive_Marlin_I3.cpp.hex:     file format ihex', '', '', 'Disassembly of section .sec1:', '', '00000000 <.sec1>:', '       0:\\t0c 94 07 0e \\tjmp\\t0x1c0e\\t;  0x1c0e', '       4:\\t0c 94 34 0e \\tjmp\\t0x1c68\\t;  0x1c68', '       8:\\t0c 94 34 0e \\tjmp\\t0x1c68\\t;  0x1c68']\n"
     ]
    }
   ],
   "source": [
    "print(asm_lines[0:10])"
   ]
  },
  {
   "cell_type": "code",
   "execution_count": 76,
   "metadata": {},
   "outputs": [],
   "source": [
    "import re\n",
    "jumps=re.compile('(r|e?i)?(jmp)')\n",
    "calls=re.compile('(r|e?i)?(call)')\n",
    "branches=re.compile('br([lg][te]|eq|ne|lo|sh|[bctv][cs]|mi|pl|i[ed])')\n",
    "skips=re.compile('cpse|sb[rib][cs]')\n",
    "returns=re.compile('reti?')"
   ]
  },
  {
   "cell_type": "code",
   "execution_count": 77,
   "metadata": {},
   "outputs": [
    {
     "name": "stdout",
     "output_type": "stream",
     "text": [
      "Asm at    16340: is a and r15, r15\n",
      "Asm at    16342: is a brne .+2      \n",
      "BING 16342 -> 16346\n",
      "BING 16342 -> 16344\n",
      "Asm at    16344: is a rjmp .+600    \n",
      "BOING 16344 -> 16944\n",
      "Asm at    16346: is a lds r22, 0x127F\n",
      "Asm at    1634a: is a lds r23, 0x1280\n",
      "Asm at    1634e: is a lds r24, 0x1281\n",
      "Asm at    16352: is a lds r25, 0x1282\n",
      "Asm at    16356: is a ldi r18, 0x05\n",
      "Asm at    16358: is a ldi r19, 0x00\n",
      "Asm at    1635a: is a ldi r20, 0x00\n",
      "Asm at    1635c: is a ldi r21, 0x00\n",
      "Asm at    1635e: is a call 0x1b092\n",
      "BINGBOING 1635e <-> 1b092\n",
      "Asm at    16362: is a cpi r18, 0x04\n",
      "Asm at    16364: is a cpc r19, r1\n",
      "Asm at    16366: is a cpc r20, r1\n",
      "Asm at    16368: is a cpc r21, r1\n",
      "Asm at    1636a: is a breq .+2      \n",
      "BING 1636a -> 1636e\n",
      "BING 1636a -> 1636c\n",
      "Asm at    1636c: is a rjmp .+560    \n",
      "BOING 1636c -> 168cc\n",
      "Asm at    1636e: is a call 0x122f0\n",
      "BINGBOING 1636e <-> 122f0\n",
      "Asm at    16372: is a lds r24, 0x03E2\n",
      "Asm at    16376: is a lds r25, 0x03E3\n",
      "Asm at    1637a: is a sts 0x128A, r25\n",
      "Asm at    1637e: is a sts 0x1289, r24\n",
      "Asm at    16382: is a lds r24, 0x127F\n",
      "Asm at    16386: is a lds r25, 0x1280\n",
      "Asm at    1638a: is a sts 0x128C, r25\n",
      "Asm at    1638e: is a sts 0x128B, r24\n",
      "Asm at    16392: is a ldi r24, 0x02\n",
      "Asm at    16394: is a sts 0x03E4, r24\n",
      "Asm at    16398: is a ldi r24, 0xB5\n",
      "Asm at    1639a: is a ldi r25, 0xB7\n",
      "Asm at    1639c: is a sts 0x03E3, r25\n",
      "Asm at    163a0: is a sts 0x03E2, r24\n",
      "Asm at    163a4: is a ldi r24, 0x51\n",
      "Asm at    163a6: is a ldi r25, 0x1A\n",
      "Asm at    163a8: is a sts 0x128E, r25\n",
      "Asm at    163ac: is a sts 0x128D, r24\n",
      "Asm at    163b0: is a ldi r24, 0x07\n",
      "Asm at    163b2: is a ldi r25, 0x08\n",
      "Asm at    163b4: is a sts 0x1290, r25\n",
      "Asm at    163b8: is a sts 0x128F, r24\n",
      "Asm at    163bc: is a sts 0x1291, r1\n",
      "Asm at    163c0: is a sts 0x1292, r1\n",
      "Asm at    163c4: is a sts 0x1293, r1\n",
      "Asm at    163c8: is a sts 0x1294, r1\n",
      "Asm at    163cc: is a ldi r24, 0xFF\n",
      "Asm at    163ce: is a ldi r25, 0x00\n",
      "Asm at    163d0: is a ldi r26, 0x00\n",
      "Asm at    163d2: is a ldi r27, 0x00\n",
      "Asm at    163d4: is a sts 0x1295, r24\n",
      "All targets:\n",
      "['16342', '16344', '16944', '16346', '1636a', '1636c', '168cc', '1636e', '122f0', '1b092', '1635e']\n",
      "All links:\n",
      "['(16342,16346)', '(1636e,122f0)', '(1635e,1b092)', '(16344,16944)', '(1636c,168cc)', '(1636a,1636c)', '(1636a,1636e)', '(122f0,1636e)', '(1b092,1635e)', '(16342,16344)']\n"
     ]
    }
   ],
   "source": [
    "targets = set()\n",
    "links = set()\n",
    "for (addr,bytecode,nmem,arg,*comment) in [ l.split('\\t') for l in asm_lines[38800:38850] if len(l.split('\\t'))>=4]:\n",
    "    print('Asm at {} is a {} {}'.format(addr,nmem,arg))\n",
    "    naddr=int(addr.strip().translate({ord(c): None for c in ':!@#$'}),base=16)\n",
    "    if (jumps.match(nmem)):\n",
    "        narg=int(arg.strip().translate({ord(c): None for c in '.\"'}),base=16)\n",
    "        if ('+' in arg or '-' in arg):\n",
    "            narg=naddr+narg\n",
    "        targets.add(naddr)\n",
    "        targets.add(narg)\n",
    "        links.add((naddr,narg))\n",
    "        print(f\"BOING {naddr:x} -> {narg:x}\")\n",
    "    if (calls.match(nmem)):\n",
    "        narg=int(arg.strip().translate({ord(c): None for c in '.\"'}),base=16)\n",
    "        if ('+' in arg or '-' in arg):\n",
    "            narg=naddr+narg\n",
    "        targets.add(naddr)\n",
    "        targets.add(narg)\n",
    "        links.add((naddr,narg))\n",
    "        links.add((narg,naddr))\n",
    "        print(f\"BINGBOING {naddr:x} <-> {narg:x}\")\n",
    "    if (branches.match(nmem)):\n",
    "        dest=int(arg.strip().translate({ord(c): None for c in '.\"'}),base=16)\n",
    "        if ('+' in arg or '-' in arg):\n",
    "            dest=naddr+dest+2\n",
    "        targets.add(naddr)\n",
    "        targets.add(dest)\n",
    "        links.add((naddr,dest))\n",
    "        print(f\"BING {naddr:x} -> {dest:x}\")\n",
    "        targets.add(naddr+2)\n",
    "        links.add((naddr,naddr+2))\n",
    "        print(f\"BING {naddr:x} -> {naddr+2:x}\")\n",
    "        \n",
    "        \n",
    "print(\"All targets:\")\n",
    "print([f'{target:x}' for target in targets])\n",
    "print(\"All links:\")\n",
    "print([f'({a:x},{b:x})' for (a,b) in links])"
   ]
  },
  {
   "cell_type": "code",
   "execution_count": 3,
   "metadata": {},
   "outputs": [
    {
     "data": {
      "text/plain": [
       "47272"
      ]
     },
     "execution_count": 3,
     "metadata": {},
     "output_type": "execute_result"
    }
   ],
   "source": []
  },
  {
   "cell_type": "code",
   "execution_count": null,
   "metadata": {
    "collapsed": true
   },
   "outputs": [],
   "source": []
  }
 ],
 "metadata": {
  "kernelspec": {
   "display_name": "Python 3",
   "language": "python",
   "name": "python3"
  },
  "language_info": {
   "codemirror_mode": {
    "name": "ipython",
    "version": 3
   },
   "file_extension": ".py",
   "mimetype": "text/x-python",
   "name": "python",
   "nbconvert_exporter": "python",
   "pygments_lexer": "ipython3",
   "version": "3.6.1"
  }
 },
 "nbformat": 4,
 "nbformat_minor": 2
}
